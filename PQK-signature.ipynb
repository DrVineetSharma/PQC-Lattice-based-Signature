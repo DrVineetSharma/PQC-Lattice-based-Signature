{
 "cells": [
  {
   "cell_type": "code",
   "execution_count": 11,
   "id": "7be8ac74",
   "metadata": {},
   "outputs": [],
   "source": [
    "import hashlib\n",
    "import random\n",
    "\n",
    "# Parameter setup for the toy scheme\n",
    "n = 20              # dimension of lattice (size of vector s and z)\n",
    "q = 2042           # prime modulus (small for toy example)\n",
    "bound_s = 10        # secret key coefficients are sampled uniformly from [-bound_s, bound_s]\n",
    "bound_y = 20       # random y coefficients from [-bound_y, bound_y]\n",
    "bound_z = 30       # rejection bound for z's coefficients\n",
    "c_range = 8        # challenge c will be an integer 0 <= c < c_range\n",
    "\n",
    "def keygen():\n",
    "    \"\"\"Generate a public/secret key pair.\"\"\"\n",
    "    # Sample secret vector s with small entries\n",
    "    s = [random.randint(-bound_s, bound_s) for _ in range(n)]\n",
    "    # Sample random matrix A (n x n) with entries mod q\n",
    "    A = [[random.randrange(q) for _ in range(n)] for _ in range(n)]\n",
    "    # Compute t = A * s mod q  (matrix-vector multiplication)\n",
    "    t = [(sum(A[i][j] * s[j] for j in range(n)) % q) for i in range(n)]\n",
    "    # Public key is (A, t), secret key is s\n",
    "    return {\"A\": A, \"t\": t}, {\"s\": s}\n",
    "\n",
    "def hash_u_message(u, message):\n",
    "    \"\"\"Hash function H(u, message) -> small challenge c.\"\"\"\n",
    "    # Convert u (list of ints) and message (bytes) to a hash input deterministically\n",
    "    u_bytes = b''.join(int(val % q).to_bytes(2, byteorder='little', signed=True) for val in u)\n",
    "    # Combine u and message bytes\n",
    "    data = u_bytes + message\n",
    "    digest = hashlib.sha256(data).digest()\n",
    "    # Use few bits of the digest to form a small integer challenge\n",
    "    c_value = digest[0] % c_range  # take first byte modulo c_range\n",
    "    return c_value\n",
    "\n",
    "def sign(sk, message):\n",
    "    \"\"\"Sign the message using the secret key sk.\"\"\"\n",
    "    s = sk[\"s\"]\n",
    "    while True:\n",
    "        # Sample random vector y with small entries\n",
    "        y = [random.randint(-bound_y, bound_y) for _ in range(n)]\n",
    "        # Compute u = A * y mod q\n",
    "        A = pk[\"A\"]\n",
    "        u = [(sum(A[i][j] * y[j] for j in range(n)) % q) for i in range(n)]\n",
    "        # Derive challenge c from hash of (u, message)\n",
    "        c = hash_u_message(u, message)\n",
    "        # Compute z = y + c * s (component-wise)\n",
    "        z = [(y[i] + c * s[i]) for i in range(n)]\n",
    "        # Check if z is within the acceptable bound\n",
    "        if all(abs(z[i]) <= bound_z for i in range(n)):\n",
    "            # If acceptable, output signature (z, c)\n",
    "            return {\"z\": z, \"c\": c}\n",
    "\n",
    "def verify(pk, message, signature):\n",
    "    \"\"\"Verify a signature (z, c) against the public key pk and message.\"\"\"\n",
    "    A = pk[\"A\"]; t = pk[\"t\"]\n",
    "    z = signature[\"z\"]; c = signature[\"c\"]\n",
    "    # Check z's size bound\n",
    "    if not all(abs(z[i]) <= bound_z for i in range(n)):\n",
    "        return False\n",
    "    # Recompute u' = A * z - c * t mod q\n",
    "    u_prime = []\n",
    "    for i in range(n):\n",
    "        # Compute A[i] dot z\n",
    "        Az = sum(A[i][j] * z[j] for j in range(n)) % q\n",
    "        # Subtract c * t[i]\n",
    "        u_prime.append((Az - c * t[i]) % q)\n",
    "    # Hash (u_prime, message) to get c'\n",
    "    c_prime = hash_u_message(u_prime, message)\n",
    "    # Signature is valid if c' equals c (and bounds were ok)\n",
    "    return c_prime == c"
   ]
  },
  {
   "cell_type": "code",
   "execution_count": 12,
   "id": "b4149b6f",
   "metadata": {},
   "outputs": [
    {
     "name": "stdout",
     "output_type": "stream",
     "text": [
      "Public key (A matrix) size: 20 x 20 elements\n",
      "Secret key vector s: [-5, 8, -8, -3, 9, 5, -10, -8, 0, -3, 6, 1, 4, -9, 1, -6, -5, 0, -4, 0]\n",
      "Generated signature: {'z': [-6, 19, -7, -22, -10, 7, -24, 4, -12, 6, 8, 15, 7, -7, 10, -10, -15, 1, -21, -18], 'c': 1}\n",
      "Signature valid? True\n"
     ]
    }
   ],
   "source": [
    "# Example usage\n",
    "pk, sk = keygen()\n",
    "message = b\"Quantum resistant document\"\n",
    "signature = sign(sk, message)\n",
    "\n",
    "print(\"Public key (A matrix) size:\", len(pk[\"A\"]), \"x\", len(pk[\"A\"][0]), \"elements\")\n",
    "print(\"Secret key vector s:\", sk[\"s\"])\n",
    "print(\"Generated signature:\", signature)\n",
    "print(\"Signature valid?\", verify(pk, message, signature))"
   ]
  }
 ],
 "metadata": {
  "kernelspec": {
   "display_name": "QISKIT",
   "language": "python",
   "name": "python3"
  },
  "language_info": {
   "codemirror_mode": {
    "name": "ipython",
    "version": 3
   },
   "file_extension": ".py",
   "mimetype": "text/x-python",
   "name": "python",
   "nbconvert_exporter": "python",
   "pygments_lexer": "ipython3",
   "version": "3.13.2"
  }
 },
 "nbformat": 4,
 "nbformat_minor": 5
}
